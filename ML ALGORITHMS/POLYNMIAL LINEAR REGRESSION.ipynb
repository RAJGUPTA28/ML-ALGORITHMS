{
 "cells": [
  {
   "cell_type": "markdown",
   "id": "92a52aef",
   "metadata": {},
   "source": [
    "# POLYNOMIAL REGRESSION"
   ]
  },
  {
   "cell_type": "raw",
   "id": "2b829727",
   "metadata": {},
   "source": [
    "DATA IN CURVE FORMAT \n",
    "DATA NOT IN LINEAR FASHION\n",
    "#Y = B0 + B1X1^1 + B2X1^2   DEGREE - 2\n",
    "#HIGH DATA & HIGH POWER OF X = HIGH COMPUTATION POWER (TO AVOID)"
   ]
  },
  {
   "cell_type": "code",
   "execution_count": 1,
   "id": "64ee1da1",
   "metadata": {},
   "outputs": [],
   "source": [
    "import pandas as pd\n",
    "import numpy as np"
   ]
  },
  {
   "cell_type": "code",
   "execution_count": 2,
   "id": "9902a553",
   "metadata": {},
   "outputs": [],
   "source": [
    "path = r\"https://drive.google.com/uc?export=download&id=1xxDtrZKfuWQfl-6KA9XEd_eatitNPnkB\" \n",
    "df = pd.read_csv(path)"
   ]
  },
  {
   "cell_type": "code",
   "execution_count": 3,
   "id": "c61de35b",
   "metadata": {},
   "outputs": [
    {
     "data": {
      "text/html": [
       "<div>\n",
       "<style scoped>\n",
       "    .dataframe tbody tr th:only-of-type {\n",
       "        vertical-align: middle;\n",
       "    }\n",
       "\n",
       "    .dataframe tbody tr th {\n",
       "        vertical-align: top;\n",
       "    }\n",
       "\n",
       "    .dataframe thead th {\n",
       "        text-align: right;\n",
       "    }\n",
       "</style>\n",
       "<table border=\"1\" class=\"dataframe\">\n",
       "  <thead>\n",
       "    <tr style=\"text-align: right;\">\n",
       "      <th></th>\n",
       "      <th>bath</th>\n",
       "      <th>balcony</th>\n",
       "      <th>price</th>\n",
       "      <th>total_sqft_int</th>\n",
       "      <th>bhk</th>\n",
       "      <th>price_per_sqft</th>\n",
       "      <th>area_typeSuper built-up  Area</th>\n",
       "      <th>area_typeBuilt-up  Area</th>\n",
       "      <th>area_typePlot  Area</th>\n",
       "      <th>availability_Ready To Move</th>\n",
       "      <th>...</th>\n",
       "      <th>location_Kalena Agrahara</th>\n",
       "      <th>location_Horamavu Agara</th>\n",
       "      <th>location_Vidyaranyapura</th>\n",
       "      <th>location_BTM 2nd Stage</th>\n",
       "      <th>location_Hebbal Kempapura</th>\n",
       "      <th>location_Hosur Road</th>\n",
       "      <th>location_Horamavu Banaswadi</th>\n",
       "      <th>location_Domlur</th>\n",
       "      <th>location_Mahadevpura</th>\n",
       "      <th>location_Tumkur Road</th>\n",
       "    </tr>\n",
       "  </thead>\n",
       "  <tbody>\n",
       "    <tr>\n",
       "      <th>0</th>\n",
       "      <td>3.0</td>\n",
       "      <td>2.0</td>\n",
       "      <td>150.00</td>\n",
       "      <td>1672.0</td>\n",
       "      <td>3</td>\n",
       "      <td>8971.291866</td>\n",
       "      <td>1</td>\n",
       "      <td>0</td>\n",
       "      <td>0</td>\n",
       "      <td>1</td>\n",
       "      <td>...</td>\n",
       "      <td>0</td>\n",
       "      <td>0</td>\n",
       "      <td>0</td>\n",
       "      <td>0</td>\n",
       "      <td>0</td>\n",
       "      <td>0</td>\n",
       "      <td>0</td>\n",
       "      <td>0</td>\n",
       "      <td>0</td>\n",
       "      <td>0</td>\n",
       "    </tr>\n",
       "    <tr>\n",
       "      <th>1</th>\n",
       "      <td>3.0</td>\n",
       "      <td>3.0</td>\n",
       "      <td>149.00</td>\n",
       "      <td>1750.0</td>\n",
       "      <td>3</td>\n",
       "      <td>8514.285714</td>\n",
       "      <td>0</td>\n",
       "      <td>1</td>\n",
       "      <td>0</td>\n",
       "      <td>1</td>\n",
       "      <td>...</td>\n",
       "      <td>0</td>\n",
       "      <td>0</td>\n",
       "      <td>0</td>\n",
       "      <td>0</td>\n",
       "      <td>0</td>\n",
       "      <td>0</td>\n",
       "      <td>0</td>\n",
       "      <td>0</td>\n",
       "      <td>0</td>\n",
       "      <td>0</td>\n",
       "    </tr>\n",
       "    <tr>\n",
       "      <th>2</th>\n",
       "      <td>3.0</td>\n",
       "      <td>2.0</td>\n",
       "      <td>150.00</td>\n",
       "      <td>1750.0</td>\n",
       "      <td>3</td>\n",
       "      <td>8571.428571</td>\n",
       "      <td>1</td>\n",
       "      <td>0</td>\n",
       "      <td>0</td>\n",
       "      <td>1</td>\n",
       "      <td>...</td>\n",
       "      <td>0</td>\n",
       "      <td>0</td>\n",
       "      <td>0</td>\n",
       "      <td>0</td>\n",
       "      <td>0</td>\n",
       "      <td>0</td>\n",
       "      <td>0</td>\n",
       "      <td>0</td>\n",
       "      <td>0</td>\n",
       "      <td>0</td>\n",
       "    </tr>\n",
       "    <tr>\n",
       "      <th>3</th>\n",
       "      <td>2.0</td>\n",
       "      <td>2.0</td>\n",
       "      <td>40.00</td>\n",
       "      <td>1250.0</td>\n",
       "      <td>2</td>\n",
       "      <td>3200.000000</td>\n",
       "      <td>1</td>\n",
       "      <td>0</td>\n",
       "      <td>0</td>\n",
       "      <td>1</td>\n",
       "      <td>...</td>\n",
       "      <td>0</td>\n",
       "      <td>0</td>\n",
       "      <td>0</td>\n",
       "      <td>0</td>\n",
       "      <td>0</td>\n",
       "      <td>0</td>\n",
       "      <td>0</td>\n",
       "      <td>0</td>\n",
       "      <td>0</td>\n",
       "      <td>0</td>\n",
       "    </tr>\n",
       "    <tr>\n",
       "      <th>4</th>\n",
       "      <td>2.0</td>\n",
       "      <td>2.0</td>\n",
       "      <td>83.00</td>\n",
       "      <td>1200.0</td>\n",
       "      <td>2</td>\n",
       "      <td>6916.666667</td>\n",
       "      <td>0</td>\n",
       "      <td>0</td>\n",
       "      <td>1</td>\n",
       "      <td>1</td>\n",
       "      <td>...</td>\n",
       "      <td>0</td>\n",
       "      <td>0</td>\n",
       "      <td>0</td>\n",
       "      <td>0</td>\n",
       "      <td>0</td>\n",
       "      <td>0</td>\n",
       "      <td>0</td>\n",
       "      <td>0</td>\n",
       "      <td>0</td>\n",
       "      <td>0</td>\n",
       "    </tr>\n",
       "    <tr>\n",
       "      <th>...</th>\n",
       "      <td>...</td>\n",
       "      <td>...</td>\n",
       "      <td>...</td>\n",
       "      <td>...</td>\n",
       "      <td>...</td>\n",
       "      <td>...</td>\n",
       "      <td>...</td>\n",
       "      <td>...</td>\n",
       "      <td>...</td>\n",
       "      <td>...</td>\n",
       "      <td>...</td>\n",
       "      <td>...</td>\n",
       "      <td>...</td>\n",
       "      <td>...</td>\n",
       "      <td>...</td>\n",
       "      <td>...</td>\n",
       "      <td>...</td>\n",
       "      <td>...</td>\n",
       "      <td>...</td>\n",
       "      <td>...</td>\n",
       "      <td>...</td>\n",
       "    </tr>\n",
       "    <tr>\n",
       "      <th>7115</th>\n",
       "      <td>3.0</td>\n",
       "      <td>2.0</td>\n",
       "      <td>325.00</td>\n",
       "      <td>2900.0</td>\n",
       "      <td>3</td>\n",
       "      <td>11206.896552</td>\n",
       "      <td>1</td>\n",
       "      <td>0</td>\n",
       "      <td>0</td>\n",
       "      <td>1</td>\n",
       "      <td>...</td>\n",
       "      <td>0</td>\n",
       "      <td>0</td>\n",
       "      <td>0</td>\n",
       "      <td>0</td>\n",
       "      <td>0</td>\n",
       "      <td>0</td>\n",
       "      <td>0</td>\n",
       "      <td>0</td>\n",
       "      <td>0</td>\n",
       "      <td>0</td>\n",
       "    </tr>\n",
       "    <tr>\n",
       "      <th>7116</th>\n",
       "      <td>3.0</td>\n",
       "      <td>1.0</td>\n",
       "      <td>84.83</td>\n",
       "      <td>1780.0</td>\n",
       "      <td>3</td>\n",
       "      <td>4765.730337</td>\n",
       "      <td>1</td>\n",
       "      <td>0</td>\n",
       "      <td>0</td>\n",
       "      <td>0</td>\n",
       "      <td>...</td>\n",
       "      <td>0</td>\n",
       "      <td>0</td>\n",
       "      <td>0</td>\n",
       "      <td>0</td>\n",
       "      <td>0</td>\n",
       "      <td>0</td>\n",
       "      <td>0</td>\n",
       "      <td>0</td>\n",
       "      <td>0</td>\n",
       "      <td>0</td>\n",
       "    </tr>\n",
       "    <tr>\n",
       "      <th>7117</th>\n",
       "      <td>2.0</td>\n",
       "      <td>1.0</td>\n",
       "      <td>48.00</td>\n",
       "      <td>880.0</td>\n",
       "      <td>2</td>\n",
       "      <td>5454.545455</td>\n",
       "      <td>0</td>\n",
       "      <td>0</td>\n",
       "      <td>1</td>\n",
       "      <td>1</td>\n",
       "      <td>...</td>\n",
       "      <td>0</td>\n",
       "      <td>0</td>\n",
       "      <td>0</td>\n",
       "      <td>0</td>\n",
       "      <td>0</td>\n",
       "      <td>0</td>\n",
       "      <td>0</td>\n",
       "      <td>0</td>\n",
       "      <td>0</td>\n",
       "      <td>0</td>\n",
       "    </tr>\n",
       "    <tr>\n",
       "      <th>7118</th>\n",
       "      <td>2.0</td>\n",
       "      <td>1.0</td>\n",
       "      <td>55.00</td>\n",
       "      <td>1000.0</td>\n",
       "      <td>2</td>\n",
       "      <td>5500.000000</td>\n",
       "      <td>0</td>\n",
       "      <td>0</td>\n",
       "      <td>1</td>\n",
       "      <td>0</td>\n",
       "      <td>...</td>\n",
       "      <td>0</td>\n",
       "      <td>0</td>\n",
       "      <td>0</td>\n",
       "      <td>0</td>\n",
       "      <td>0</td>\n",
       "      <td>0</td>\n",
       "      <td>0</td>\n",
       "      <td>0</td>\n",
       "      <td>0</td>\n",
       "      <td>0</td>\n",
       "    </tr>\n",
       "    <tr>\n",
       "      <th>7119</th>\n",
       "      <td>2.0</td>\n",
       "      <td>1.0</td>\n",
       "      <td>78.00</td>\n",
       "      <td>1400.0</td>\n",
       "      <td>3</td>\n",
       "      <td>5571.428571</td>\n",
       "      <td>0</td>\n",
       "      <td>0</td>\n",
       "      <td>1</td>\n",
       "      <td>0</td>\n",
       "      <td>...</td>\n",
       "      <td>0</td>\n",
       "      <td>0</td>\n",
       "      <td>0</td>\n",
       "      <td>0</td>\n",
       "      <td>0</td>\n",
       "      <td>0</td>\n",
       "      <td>0</td>\n",
       "      <td>0</td>\n",
       "      <td>0</td>\n",
       "      <td>0</td>\n",
       "    </tr>\n",
       "  </tbody>\n",
       "</table>\n",
       "<p>7120 rows × 108 columns</p>\n",
       "</div>"
      ],
      "text/plain": [
       "      bath  balcony   price  total_sqft_int  bhk  price_per_sqft  \\\n",
       "0      3.0      2.0  150.00          1672.0    3     8971.291866   \n",
       "1      3.0      3.0  149.00          1750.0    3     8514.285714   \n",
       "2      3.0      2.0  150.00          1750.0    3     8571.428571   \n",
       "3      2.0      2.0   40.00          1250.0    2     3200.000000   \n",
       "4      2.0      2.0   83.00          1200.0    2     6916.666667   \n",
       "...    ...      ...     ...             ...  ...             ...   \n",
       "7115   3.0      2.0  325.00          2900.0    3    11206.896552   \n",
       "7116   3.0      1.0   84.83          1780.0    3     4765.730337   \n",
       "7117   2.0      1.0   48.00           880.0    2     5454.545455   \n",
       "7118   2.0      1.0   55.00          1000.0    2     5500.000000   \n",
       "7119   2.0      1.0   78.00          1400.0    3     5571.428571   \n",
       "\n",
       "      area_typeSuper built-up  Area  area_typeBuilt-up  Area  \\\n",
       "0                                 1                        0   \n",
       "1                                 0                        1   \n",
       "2                                 1                        0   \n",
       "3                                 1                        0   \n",
       "4                                 0                        0   \n",
       "...                             ...                      ...   \n",
       "7115                              1                        0   \n",
       "7116                              1                        0   \n",
       "7117                              0                        0   \n",
       "7118                              0                        0   \n",
       "7119                              0                        0   \n",
       "\n",
       "      area_typePlot  Area  availability_Ready To Move  ...  \\\n",
       "0                       0                           1  ...   \n",
       "1                       0                           1  ...   \n",
       "2                       0                           1  ...   \n",
       "3                       0                           1  ...   \n",
       "4                       1                           1  ...   \n",
       "...                   ...                         ...  ...   \n",
       "7115                    0                           1  ...   \n",
       "7116                    0                           0  ...   \n",
       "7117                    1                           1  ...   \n",
       "7118                    1                           0  ...   \n",
       "7119                    1                           0  ...   \n",
       "\n",
       "      location_Kalena Agrahara  location_Horamavu Agara  \\\n",
       "0                            0                        0   \n",
       "1                            0                        0   \n",
       "2                            0                        0   \n",
       "3                            0                        0   \n",
       "4                            0                        0   \n",
       "...                        ...                      ...   \n",
       "7115                         0                        0   \n",
       "7116                         0                        0   \n",
       "7117                         0                        0   \n",
       "7118                         0                        0   \n",
       "7119                         0                        0   \n",
       "\n",
       "      location_Vidyaranyapura  location_BTM 2nd Stage  \\\n",
       "0                           0                       0   \n",
       "1                           0                       0   \n",
       "2                           0                       0   \n",
       "3                           0                       0   \n",
       "4                           0                       0   \n",
       "...                       ...                     ...   \n",
       "7115                        0                       0   \n",
       "7116                        0                       0   \n",
       "7117                        0                       0   \n",
       "7118                        0                       0   \n",
       "7119                        0                       0   \n",
       "\n",
       "      location_Hebbal Kempapura  location_Hosur Road  \\\n",
       "0                             0                    0   \n",
       "1                             0                    0   \n",
       "2                             0                    0   \n",
       "3                             0                    0   \n",
       "4                             0                    0   \n",
       "...                         ...                  ...   \n",
       "7115                          0                    0   \n",
       "7116                          0                    0   \n",
       "7117                          0                    0   \n",
       "7118                          0                    0   \n",
       "7119                          0                    0   \n",
       "\n",
       "      location_Horamavu Banaswadi  location_Domlur  location_Mahadevpura  \\\n",
       "0                               0                0                     0   \n",
       "1                               0                0                     0   \n",
       "2                               0                0                     0   \n",
       "3                               0                0                     0   \n",
       "4                               0                0                     0   \n",
       "...                           ...              ...                   ...   \n",
       "7115                            0                0                     0   \n",
       "7116                            0                0                     0   \n",
       "7117                            0                0                     0   \n",
       "7118                            0                0                     0   \n",
       "7119                            0                0                     0   \n",
       "\n",
       "      location_Tumkur Road  \n",
       "0                        0  \n",
       "1                        0  \n",
       "2                        0  \n",
       "3                        0  \n",
       "4                        0  \n",
       "...                    ...  \n",
       "7115                     0  \n",
       "7116                     0  \n",
       "7117                     0  \n",
       "7118                     0  \n",
       "7119                     0  \n",
       "\n",
       "[7120 rows x 108 columns]"
      ]
     },
     "execution_count": 3,
     "metadata": {},
     "output_type": "execute_result"
    }
   ],
   "source": [
    "df"
   ]
  },
  {
   "cell_type": "code",
   "execution_count": 6,
   "id": "ab7a8061",
   "metadata": {},
   "outputs": [
    {
     "name": "stdout",
     "output_type": "stream",
     "text": [
      "Shape of X =  (7120, 107)\n",
      "Shape of y =  (7120,)\n"
     ]
    }
   ],
   "source": [
    "X = df.drop('price' ,axis =1)\n",
    "y = df['price']\n",
    "print('Shape of X = ', X.shape)\n",
    "print('Shape of y = ', y.shape)"
   ]
  },
  {
   "cell_type": "code",
   "execution_count": 8,
   "id": "eafa9011",
   "metadata": {},
   "outputs": [],
   "source": [
    "\n",
    "from sklearn.model_selection import train_test_split"
   ]
  },
  {
   "cell_type": "code",
   "execution_count": 10,
   "id": "96d556a9",
   "metadata": {},
   "outputs": [
    {
     "name": "stdout",
     "output_type": "stream",
     "text": [
      "Shape of X_train =  (5696, 107)\n",
      "Shape of y_train =  (5696,)\n",
      "Shape of X_test =  (1424, 107)\n",
      "Shape of y_test =  (1424,)\n"
     ]
    }
   ],
   "source": [
    "X_train , X_test , y_train , y_test = train_test_split(X,y , test_size = 0.2 ,random_state = 51 )\n",
    "\n",
    "\n",
    "print('Shape of X_train = ', X_train.shape)\n",
    "print('Shape of y_train = ', y_train.shape)\n",
    "print('Shape of X_test = ', X_test.shape)\n",
    "print('Shape of y_test = ', y_test.shape)\n"
   ]
  },
  {
   "cell_type": "code",
   "execution_count": 11,
   "id": "e6e5154c",
   "metadata": {},
   "outputs": [],
   "source": [
    "from sklearn.preprocessing import StandardScaler"
   ]
  },
  {
   "cell_type": "code",
   "execution_count": 12,
   "id": "5adc7d76",
   "metadata": {},
   "outputs": [],
   "source": [
    "sc = StandardScaler()\n",
    "sc.fit(X_train)\n",
    "X_train = sc.transform(X_train)\n",
    "X_test = sc.transform(X_test)"
   ]
  },
  {
   "cell_type": "markdown",
   "id": "0acaec4a",
   "metadata": {},
   "source": [
    "# ml training"
   ]
  },
  {
   "cell_type": "code",
   "execution_count": 14,
   "id": "ca9caf67",
   "metadata": {},
   "outputs": [],
   "source": [
    "from sklearn.linear_model import LinearRegression\n",
    "from sklearn.preprocessing import PolynomialFeatures"
   ]
  },
  {
   "cell_type": "raw",
   "id": "8f2e88d8",
   "metadata": {},
   "source": [
    "# PolynomialFeatures(\n",
    "    degree=2,\n",
    "    *,\n",
    "    interaction_only=False,\n",
    "    include_bias=True,\n",
    "    order='C',\n",
    ")"
   ]
  },
  {
   "cell_type": "code",
   "execution_count": 15,
   "id": "9cf0131b",
   "metadata": {},
   "outputs": [],
   "source": [
    "poly_reg = PolynomialFeatures(degree = 2)\n",
    "poly_reg.fit(X_train)\n",
    "\n",
    "X_train_poly =poly_reg.transform(X_train)\n",
    "X_test_poly =poly_reg.transform(X_test)"
   ]
  },
  {
   "cell_type": "code",
   "execution_count": 16,
   "id": "a951243d",
   "metadata": {},
   "outputs": [
    {
     "data": {
      "text/plain": [
       "((5696, 5886), (1424, 5886))"
      ]
     },
     "execution_count": 16,
     "metadata": {},
     "output_type": "execute_result"
    }
   ],
   "source": [
    "X_train_poly.shape ,X_test_poly.shape"
   ]
  },
  {
   "cell_type": "code",
   "execution_count": 17,
   "id": "11b1bda2",
   "metadata": {},
   "outputs": [
    {
     "data": {
      "text/plain": [
       "LinearRegression()"
      ]
     },
     "execution_count": 17,
     "metadata": {},
     "output_type": "execute_result"
    }
   ],
   "source": [
    "lr = LinearRegression()\n",
    "lr.fit(X_train_poly,y_train)"
   ]
  },
  {
   "cell_type": "code",
   "execution_count": 18,
   "id": "37090fae",
   "metadata": {},
   "outputs": [
    {
     "data": {
      "text/plain": [
       "0.9997705122953379"
      ]
     },
     "execution_count": 18,
     "metadata": {},
     "output_type": "execute_result"
    }
   ],
   "source": [
    "lr.score(X_test_poly , y_test)"
   ]
  },
  {
   "cell_type": "raw",
   "id": "5bb986c9",
   "metadata": {},
   "source": [
    "PREDDICTION"
   ]
  },
  {
   "cell_type": "code",
   "execution_count": 19,
   "id": "d499976d",
   "metadata": {},
   "outputs": [
    {
     "data": {
      "text/plain": [
       "array([80.])"
      ]
     },
     "execution_count": 19,
     "metadata": {},
     "output_type": "execute_result"
    }
   ],
   "source": [
    "lr.predict([X_test_poly[0,:]])"
   ]
  },
  {
   "cell_type": "code",
   "execution_count": 28,
   "id": "66d3d29c",
   "metadata": {},
   "outputs": [
    {
     "data": {
      "text/plain": [
       "array([ 80.,  40., 120., ...,  32.,  63., 180.])"
      ]
     },
     "execution_count": 28,
     "metadata": {},
     "output_type": "execute_result"
    }
   ],
   "source": [
    "y_pred = lr.predict(X_test_poly)\n",
    "y_pred"
   ]
  },
  {
   "cell_type": "code",
   "execution_count": 29,
   "id": "decc7997",
   "metadata": {},
   "outputs": [
    {
     "data": {
      "text/plain": [
       "2435     80.00\n",
       "3113     40.00\n",
       "426     120.00\n",
       "1124     79.00\n",
       "1161     45.00\n",
       "         ...  \n",
       "2078     28.34\n",
       "6855     84.00\n",
       "4381     32.00\n",
       "3862     63.00\n",
       "43      180.00\n",
       "Name: price, Length: 1424, dtype: float64"
      ]
     },
     "execution_count": 29,
     "metadata": {},
     "output_type": "execute_result"
    }
   ],
   "source": [
    "y_test"
   ]
  },
  {
   "cell_type": "markdown",
   "id": "ea49ec31",
   "metadata": {},
   "source": [
    "# ERROR ANALYSIS"
   ]
  },
  {
   "cell_type": "code",
   "execution_count": 23,
   "id": "d6c18604",
   "metadata": {},
   "outputs": [],
   "source": [
    "from sklearn.metrics import mean_squared_error"
   ]
  },
  {
   "cell_type": "code",
   "execution_count": 30,
   "id": "7ae530b9",
   "metadata": {},
   "outputs": [
    {
     "data": {
      "text/plain": [
       "4.6110819723188445"
      ]
     },
     "execution_count": 30,
     "metadata": {},
     "output_type": "execute_result"
    }
   ],
   "source": [
    "MSE = mean_squared_error(y_test,y_pred)\n",
    "MSE"
   ]
  },
  {
   "cell_type": "code",
   "execution_count": 31,
   "id": "c9b4edf3",
   "metadata": {},
   "outputs": [
    {
     "name": "stdout",
     "output_type": "stream",
     "text": [
      "MSE  4.6110819723188445\n",
      "RMSE 2.1473430029501213\n"
     ]
    }
   ],
   "source": [
    "RMSE = np.sqrt(MSE)\n",
    "print(\"MSE \" ,MSE)\n",
    "print(\"RMSE\" ,RMSE)\n"
   ]
  },
  {
   "cell_type": "code",
   "execution_count": null,
   "id": "f39fe47e",
   "metadata": {},
   "outputs": [],
   "source": []
  }
 ],
 "metadata": {
  "kernelspec": {
   "display_name": "Python 3 (ipykernel)",
   "language": "python",
   "name": "python3"
  },
  "language_info": {
   "codemirror_mode": {
    "name": "ipython",
    "version": 3
   },
   "file_extension": ".py",
   "mimetype": "text/x-python",
   "name": "python",
   "nbconvert_exporter": "python",
   "pygments_lexer": "ipython3",
   "version": "3.9.7"
  }
 },
 "nbformat": 4,
 "nbformat_minor": 5
}
