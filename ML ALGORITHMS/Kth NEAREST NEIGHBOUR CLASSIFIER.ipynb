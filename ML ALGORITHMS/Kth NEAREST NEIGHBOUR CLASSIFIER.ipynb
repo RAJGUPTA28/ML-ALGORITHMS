{
 "cells": [
  {
   "cell_type": "markdown",
   "id": "c7f2d32d",
   "metadata": {},
   "source": [
    "# Kth NEAREST NEIGHBOUR CLASSIFIER\n"
   ]
  },
  {
   "cell_type": "code",
   "execution_count": 1,
   "id": "02ab2532",
   "metadata": {},
   "outputs": [],
   "source": [
    "import numpy as np\n",
    "import pandas as pd"
   ]
  },
  {
   "cell_type": "code",
   "execution_count": 2,
   "id": "dbcc0309",
   "metadata": {},
   "outputs": [],
   "source": [
    "from sklearn.datasets import load_breast_cancer"
   ]
  },
  {
   "cell_type": "code",
   "execution_count": 3,
   "id": "3bae1895",
   "metadata": {},
   "outputs": [],
   "source": [
    "data = load_breast_cancer()"
   ]
  },
  {
   "cell_type": "code",
   "execution_count": 4,
   "id": "feda9e7a",
   "metadata": {},
   "outputs": [
    {
     "data": {
      "text/plain": [
       "array(['malignant', 'benign'], dtype='<U9')"
      ]
     },
     "execution_count": 4,
     "metadata": {},
     "output_type": "execute_result"
    }
   ],
   "source": [
    "data.target_names\n"
   ]
  },
  {
   "cell_type": "code",
   "execution_count": 5,
   "id": "4f614d9e",
   "metadata": {},
   "outputs": [
    {
     "data": {
      "text/plain": [
       "array(['mean radius', 'mean texture', 'mean perimeter', 'mean area',\n",
       "       'mean smoothness', 'mean compactness', 'mean concavity',\n",
       "       'mean concave points', 'mean symmetry', 'mean fractal dimension',\n",
       "       'radius error', 'texture error', 'perimeter error', 'area error',\n",
       "       'smoothness error', 'compactness error', 'concavity error',\n",
       "       'concave points error', 'symmetry error',\n",
       "       'fractal dimension error', 'worst radius', 'worst texture',\n",
       "       'worst perimeter', 'worst area', 'worst smoothness',\n",
       "       'worst compactness', 'worst concavity', 'worst concave points',\n",
       "       'worst symmetry', 'worst fractal dimension'], dtype='<U23')"
      ]
     },
     "execution_count": 5,
     "metadata": {},
     "output_type": "execute_result"
    }
   ],
   "source": [
    "data.feature_names"
   ]
  },
  {
   "cell_type": "code",
   "execution_count": 6,
   "id": "79243778",
   "metadata": {},
   "outputs": [],
   "source": [
    "#create dataframe\n",
    "df = pd.DataFrame(np.c_[data.data , data.target],columns = list(data.feature_names) +['target'])"
   ]
  },
  {
   "cell_type": "code",
   "execution_count": 7,
   "id": "9060bf9e",
   "metadata": {},
   "outputs": [
    {
     "data": {
      "text/plain": [
       "((569, 30), (569,))"
      ]
     },
     "execution_count": 7,
     "metadata": {},
     "output_type": "execute_result"
    }
   ],
   "source": [
    "x= df.drop('target',axis = 1)\n",
    "y = df['target']\n",
    "x.shape ,y.shape"
   ]
  },
  {
   "cell_type": "code",
   "execution_count": 8,
   "id": "e54e159a",
   "metadata": {},
   "outputs": [],
   "source": [
    "from sklearn.model_selection import train_test_split"
   ]
  },
  {
   "cell_type": "code",
   "execution_count": 9,
   "id": "ca7ae25a",
   "metadata": {},
   "outputs": [
    {
     "name": "stdout",
     "output_type": "stream",
     "text": [
      "Shape of X_train =  (455, 30)\n",
      "Shape of y_train =  (455,)\n",
      "Shape of X_test =  (114, 30)\n",
      "Shape of y_test =  (114,)\n"
     ]
    }
   ],
   "source": [
    "x_train , x_test , y_train , y_test = train_test_split(x,y,test_size = 0.2 ,\n",
    "                                                        random_state = 2020)\n",
    "\n",
    "print('Shape of X_train = ', x_train.shape)\n",
    "print('Shape of y_train = ', y_train.shape)\n",
    "print('Shape of X_test = ', x_test.shape)\n",
    "print('Shape of y_test = ', y_test.shape)"
   ]
  },
  {
   "cell_type": "markdown",
   "id": "f8fb628a",
   "metadata": {},
   "source": [
    "# training kth neighour ml training"
   ]
  },
  {
   "cell_type": "code",
   "execution_count": 13,
   "id": "85d9df5e",
   "metadata": {},
   "outputs": [],
   "source": [
    "from sklearn.neighbors import KNeighborsClassifier"
   ]
  },
  {
   "cell_type": "code",
   "execution_count": 14,
   "id": "51ccb61f",
   "metadata": {},
   "outputs": [
    {
     "data": {
      "text/plain": [
       "0.9298245614035088"
      ]
     },
     "execution_count": 14,
     "metadata": {},
     "output_type": "execute_result"
    }
   ],
   "source": [
    "classifier = KNeighborsClassifier(n_neighbors=5)\n",
    "classifier.fit(x_train , y_train)\n",
    "classifier.score(x_test , y_test)"
   ]
  },
  {
   "cell_type": "code",
   "execution_count": 15,
   "id": "39a72405",
   "metadata": {},
   "outputs": [],
   "source": [
    "#good accuracy"
   ]
  },
  {
   "cell_type": "markdown",
   "id": "e9e644e3",
   "metadata": {},
   "source": [
    "# predict cancer"
   ]
  },
  {
   "cell_type": "code",
   "execution_count": 17,
   "id": "765e37bb",
   "metadata": {},
   "outputs": [],
   "source": [
    "patient1 = [17.99,\n",
    " 10.38,\n",
    " 122.8,\n",
    " 1001.0,\n",
    " 0.1184,\n",
    " 0.2776,\n",
    " 0.3001,\n",
    " 0.1471,\n",
    " 0.2419,\n",
    " 0.07871,\n",
    " 1.095,\n",
    " 0.9053,\n",
    " 8.589,\n",
    " 153.4,\n",
    " 0.006399,\n",
    " 0.04904,\n",
    " 0.05373,\n",
    " 0.01587,\n",
    " 0.03003,\n",
    " 0.006193,\n",
    " 25.38,\n",
    " 17.33,\n",
    " 184.6,\n",
    " 2019.0,\n",
    " 0.1622,\n",
    " 0.6656,\n",
    " 0.7119,\n",
    " 0.2654,\n",
    " 0.4601,\n",
    " 0.1189]"
   ]
  },
  {
   "cell_type": "code",
   "execution_count": 18,
   "id": "b3ebe0c8",
   "metadata": {},
   "outputs": [
    {
     "data": {
      "text/plain": [
       "array([[1.799e+01, 1.038e+01, 1.228e+02, 1.001e+03, 1.184e-01, 2.776e-01,\n",
       "        3.001e-01, 1.471e-01, 2.419e-01, 7.871e-02, 1.095e+00, 9.053e-01,\n",
       "        8.589e+00, 1.534e+02, 6.399e-03, 4.904e-02, 5.373e-02, 1.587e-02,\n",
       "        3.003e-02, 6.193e-03, 2.538e+01, 1.733e+01, 1.846e+02, 2.019e+03,\n",
       "        1.622e-01, 6.656e-01, 7.119e-01, 2.654e-01, 4.601e-01, 1.189e-01]])"
      ]
     },
     "execution_count": 18,
     "metadata": {},
     "output_type": "execute_result"
    }
   ],
   "source": [
    "\n",
    "patient1_sc = np.array([patient1])\n",
    "patient1_sc"
   ]
  },
  {
   "cell_type": "code",
   "execution_count": 19,
   "id": "903fc45e",
   "metadata": {},
   "outputs": [],
   "source": [
    "pred = classifier.predict(patient1_sc)"
   ]
  },
  {
   "cell_type": "code",
   "execution_count": 20,
   "id": "2b364940",
   "metadata": {},
   "outputs": [
    {
     "name": "stdout",
     "output_type": "stream",
     "text": [
      "Patient has Cancer (malignant tumor)\n"
     ]
    }
   ],
   "source": [
    "if pred[0] == 0:\n",
    "  print('Patient has Cancer (malignant tumor)')\n",
    "else:\n",
    "  print('Patient has no Cancer (malignant benign)')"
   ]
  },
  {
   "cell_type": "code",
   "execution_count": 21,
   "id": "a9ccbf23",
   "metadata": {},
   "outputs": [],
   "source": [
    "#less outliers must be therr in data then only KNN gives good accuracy"
   ]
  },
  {
   "cell_type": "code",
   "execution_count": null,
   "id": "a6812270",
   "metadata": {},
   "outputs": [],
   "source": []
  }
 ],
 "metadata": {
  "kernelspec": {
   "display_name": "Python 3 (ipykernel)",
   "language": "python",
   "name": "python3"
  },
  "language_info": {
   "codemirror_mode": {
    "name": "ipython",
    "version": 3
   },
   "file_extension": ".py",
   "mimetype": "text/x-python",
   "name": "python",
   "nbconvert_exporter": "python",
   "pygments_lexer": "ipython3",
   "version": "3.9.7"
  }
 },
 "nbformat": 4,
 "nbformat_minor": 5
}
